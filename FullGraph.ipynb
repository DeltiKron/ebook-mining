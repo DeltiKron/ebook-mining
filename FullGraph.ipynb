{
 "cells": [
  {
   "cell_type": "code",
   "execution_count": 1,
   "id": "32ab7cdb-0479-46bf-8a0b-57959ded8c0c",
   "metadata": {},
   "outputs": [
    {
     "name": "stdout",
     "output_type": "stream",
     "text": [
      "['data/processed/01_the_colour_of_magic/01_the_colour_of_magic_combos.csv', 'data/processed/02_the_light_fantastic/02_the_light_fantastic_combos.csv', 'data/processed/03_equal_rites/03_equal_rites_combos.csv', 'data/processed/04_mort/04_mort_combos.csv', 'data/processed/05_sourcery/05_sourcery_combos.csv', 'data/processed/06_wyrd_sisters/06_wyrd_sisters_combos.csv', 'data/processed/07_pyramids/07_pyramids_combos.csv', 'data/processed/08_guards!_guards!/08_guards!_guards!_combos.csv', 'data/processed/09_eric/09_eric_combos.csv', 'data/processed/10_moving_pictures/10_moving_pictures_combos.csv', 'data/processed/11_reaper_man/11_reaper_man_combos.csv', 'data/processed/12_witches_abroad/12_witches_abroad_combos.csv', 'data/processed/13_small_gods/13_small_gods_combos.csv', 'data/processed/14_lords_and_ladies/14_lords_and_ladies_combos.csv', 'data/processed/15_men_at_arms/15_men_at_arms_combos.csv', 'data/processed/24_fifth_elephant/24_fifth_elephant_combos.csv', 'data/processed/25_the_truth/25_the_truth_combos.csv', 'data/processed/26_the_thief_of_time/26_the_thief_of_time_combos.csv', 'data/processed/27_the_last_hero/27_the_last_hero_combos.csv', 'data/processed/28_the_amazing_maurice_and_h/28_the_amazing_maurice_and_h_combos.csv', 'data/processed/29_night_watch/29_night_watch_combos.csv', 'data/processed/30_the_wee_free_men/30_the_wee_free_men_combos.csv', 'data/processed/31_monstrous_regiment/31_monstrous_regiment_combos.csv', 'data/processed/32_a_hat_full_of_sky/32_a_hat_full_of_sky_combos.csv', 'data/processed/33_going_postal/33_going_postal_combos.csv', 'data/processed/34_thud!/34_thud!_combos.csv', 'data/processed/35_wintersmith/35_wintersmith_combos.csv', 'data/processed/36_making_money/36_making_money_combos.csv', 'data/processed/37_unseen_academicals/37_unseen_academicals_combos.csv']\n"
     ]
    }
   ],
   "source": [
    "from glob import glob\n",
    "combo_files = list(glob('data/processed/*/*combo*.csv'))\n",
    "print(combo_files)"
   ]
  },
  {
   "cell_type": "code",
   "execution_count": 2,
   "id": "3f1c1bfc-59f8-406f-a477-84cc6eb4e688",
   "metadata": {},
   "outputs": [],
   "source": [
    "import pandas as pd\n",
    "from pathlib import Path\n",
    "dataframes = [pd.read_csv(f) for f in combo_files]\n",
    "for f, df in zip(combo_files,dataframes): df['book'] = Path(f).stem\n",
    "\n",
    "#display(dataframes[0])\n",
    "full_df = pd.concat(dataframes)\n",
    "full_df.fillna(0, inplace= True)\n",
    "#display(full_df)\n",
    "#display(full_df.sum())"
   ]
  },
  {
   "cell_type": "code",
   "execution_count": 4,
   "id": "8059eb7f-7c78-46ba-971b-f0e7a38a4b4b",
   "metadata": {},
   "outputs": [
    {
     "data": {
      "text/plain": [
       "array([ True,  True,  True, ...,  True,  True,  True])"
      ]
     },
     "metadata": {},
     "output_type": "display_data"
    }
   ],
   "source": [
    "import re\n",
    "display(full_df.columns[1:] != 'book')\n",
    "\n",
    "\n",
    "sum_series = full_df.loc[:,[False, *(full_df.columns[1:] != 'book')]].sum()\n",
    "\n",
    "\n",
    "filtered = sum_series[sum_series > 1]\n",
    "\n",
    "new_cols = []\n",
    "for c in filtered.index:\n",
    "    c = c.replace('\"Great A\\'Tuin \"',\"'Great ATuin'\")\n",
    "    c = c.replace('\"Awf\\'ly Wee Billy \"',\"'Awfly Wee Billy'\")    \n",
    "    \n",
    "    match = re.match(r\".*'([^']+)'.*,.*'([^']+)'\",c)\n",
    "    if not match: \n",
    "        print(f\"Error: {c}\")\n",
    "        new_cols.append(c)\n",
    "        continue\n",
    "    #print('match!')\n",
    "    matches = match.group(1,2)\n",
    "    new_cols.append(( matches[0].strip(), matches[1].strip()))\n",
    "filtered.index = new_cols\n",
    "\n",
    "import networkx as nx\n",
    "from itertools import chain\n",
    "\n",
    "G = nx.Graph()\n",
    "\n",
    "nodes = set(chain(*[[*c] for c in filtered.index]))\n",
    "G.add_nodes_from(nodes)\n",
    "\n",
    "edges_with_weights = [(*edge,weight) for edge, weight  in zip(filtered.index, filtered.values)]\n",
    "\n",
    "G.add_weighted_edges_from(edges_with_weights)\n",
    "nx.write_gexf(G, f\"full_graph.gexf\")"
   ]
  },
  {
   "cell_type": "code",
   "execution_count": null,
   "id": "0d756e7c-88d6-4a3f-a150-bb2d1dcc2aec",
   "metadata": {},
   "outputs": [],
   "source": []
  }
 ],
 "metadata": {
  "kernelspec": {
   "display_name": "nlp",
   "language": "python",
   "name": "nlp"
  },
  "language_info": {
   "codemirror_mode": {
    "name": "ipython",
    "version": 3
   },
   "file_extension": ".py",
   "mimetype": "text/x-python",
   "name": "python",
   "nbconvert_exporter": "python",
   "pygments_lexer": "ipython3",
   "version": "3.10.0"
  }
 },
 "nbformat": 4,
 "nbformat_minor": 5
}
