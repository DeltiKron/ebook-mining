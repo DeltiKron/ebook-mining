{
 "cells": [
  {
   "cell_type": "markdown",
   "id": "22976694",
   "metadata": {
    "tags": [
     "papermill-error-cell-tag"
    ]
   },
   "source": [
    "<span style=\"color:red; font-family:Helvetica Neue, Helvetica, Arial, sans-serif; font-size:2em;\">An Exception was encountered at '<a href=\"#papermill-error-cell\">In [5]</a>'.</span>"
   ]
  },
  {
   "cell_type": "code",
   "execution_count": 1,
   "id": "09e32511-ce5d-4153-a330-4061193740b8",
   "metadata": {
    "execution": {
     "iopub.execute_input": "2022-08-21T21:22:52.542923Z",
     "iopub.status.busy": "2022-08-21T21:22:52.541774Z",
     "iopub.status.idle": "2022-08-21T21:22:54.110275Z",
     "shell.execute_reply": "2022-08-21T21:22:54.108763Z"
    },
    "papermill": {
     "duration": 1.592957,
     "end_time": "2022-08-21T21:22:54.112787",
     "exception": false,
     "start_time": "2022-08-21T21:22:52.519830",
     "status": "completed"
    },
    "tags": []
   },
   "outputs": [
    {
     "name": "stderr",
     "output_type": "stream",
     "text": [
      "[nltk_data] Downloading package punkt to /home/carl/nltk_data...\n",
      "[nltk_data]   Package punkt is already up-to-date!\n",
      "[nltk_data] Downloading package averaged_perceptron_tagger to\n",
      "[nltk_data]     /home/carl/nltk_data...\n",
      "[nltk_data]   Package averaged_perceptron_tagger is already up-to-\n",
      "[nltk_data]       date!\n",
      "[nltk_data] Downloading package maxent_ne_chunker to\n",
      "[nltk_data]     /home/carl/nltk_data...\n",
      "[nltk_data]   Package maxent_ne_chunker is already up-to-date!\n",
      "[nltk_data] Downloading package words to /home/carl/nltk_data...\n",
      "[nltk_data]   Package words is already up-to-date!\n"
     ]
    }
   ],
   "source": [
    "import nltk\n",
    "from bs4 import BeautifulSoup\n",
    "\n",
    "nltk.download('punkt')\n",
    "nltk.download('averaged_perceptron_tagger')\n",
    "nltk.download('maxent_ne_chunker')\n",
    "nltk.download('words')\n",
    "import ebooklib\n",
    "from ebooklib import epub\n",
    "from glob import glob\n",
    "sources = list(glob('data/*.epub'))\n",
    "\n",
    "def chapter_to_paragraphs(chapter):\n",
    "    soup = BeautifulSoup(chapter.get_body_content(), 'html.parser')\n",
    "    text = [para.get_text() for para in soup.find_all('p')]\n",
    "    return text\n",
    "\n",
    "#sources"
   ]
  },
  {
   "cell_type": "code",
   "execution_count": 2,
   "id": "5ae02c93-46fd-4b90-a1ae-586332b012ff",
   "metadata": {
    "execution": {
     "iopub.execute_input": "2022-08-21T21:22:54.123794Z",
     "iopub.status.busy": "2022-08-21T21:22:54.122507Z",
     "iopub.status.idle": "2022-08-21T21:22:54.129372Z",
     "shell.execute_reply": "2022-08-21T21:22:54.127952Z"
    },
    "papermill": {
     "duration": 0.016148,
     "end_time": "2022-08-21T21:22:54.132138",
     "exception": false,
     "start_time": "2022-08-21T21:22:54.115990",
     "status": "completed"
    },
    "tags": [
     "parameters"
    ]
   },
   "outputs": [],
   "source": [
    "test_source = 'data/24_fifth_elephant.epub'"
   ]
  },
  {
   "cell_type": "code",
   "execution_count": 3,
   "id": "f280b5e4",
   "metadata": {
    "execution": {
     "iopub.execute_input": "2022-08-21T21:22:54.139859Z",
     "iopub.status.busy": "2022-08-21T21:22:54.139578Z",
     "iopub.status.idle": "2022-08-21T21:22:54.160706Z",
     "shell.execute_reply": "2022-08-21T21:22:54.158987Z"
    },
    "papermill": {
     "duration": 0.028779,
     "end_time": "2022-08-21T21:22:54.163673",
     "exception": false,
     "start_time": "2022-08-21T21:22:54.134894",
     "status": "completed"
    },
    "tags": [
     "injected-parameters"
    ]
   },
   "outputs": [],
   "source": [
    "# Parameters\n",
    "test_source = \"data/41_the_shepherds_crown.epub\"\n"
   ]
  },
  {
   "cell_type": "code",
   "execution_count": 4,
   "id": "e14f6b5e-e950-4ebe-a6ce-085f9aa358ff",
   "metadata": {
    "execution": {
     "iopub.execute_input": "2022-08-21T21:22:54.171271Z",
     "iopub.status.busy": "2022-08-21T21:22:54.171020Z",
     "iopub.status.idle": "2022-08-21T21:22:54.249762Z",
     "shell.execute_reply": "2022-08-21T21:22:54.248666Z"
    },
    "papermill": {
     "duration": 0.08577,
     "end_time": "2022-08-21T21:22:54.252349",
     "exception": false,
     "start_time": "2022-08-21T21:22:54.166579",
     "status": "completed"
    },
    "tags": []
   },
   "outputs": [
    {
     "name": "stdout",
     "output_type": "stream",
     "text": [
      "OPS/xhtml/about_author.xhtml\n",
      "OPS/xhtml/about_book.xhtml\n",
      "OPS/xhtml/acknowledgements.xhtml\n",
      "OPS/xhtml/afeegle.xhtml\n",
      "OPS/xhtml/afterword.xhtml\n",
      "OPS/xhtml/also_by.xhtml\n",
      "OPS/xhtml/back_ad.xhtml\n",
      "OPS/xhtml/chapter_001.xhtml\n",
      "OPS/xhtml/chapter_002.xhtml\n",
      "OPS/xhtml/chapter_003.xhtml\n",
      "OPS/xhtml/chapter_004.xhtml\n",
      "OPS/xhtml/chapter_005.xhtml\n",
      "OPS/xhtml/chapter_006.xhtml\n",
      "OPS/xhtml/chapter_007.xhtml\n",
      "OPS/xhtml/chapter_008.xhtml\n",
      "OPS/xhtml/chapter_009.xhtml\n",
      "OPS/xhtml/chapter_010.xhtml\n",
      "OPS/xhtml/chapter_011.xhtml\n",
      "OPS/xhtml/chapter_012.xhtml\n",
      "OPS/xhtml/chapter_013.xhtml\n",
      "OPS/xhtml/chapter_014.xhtml\n",
      "OPS/xhtml/chapter_015.xhtml\n",
      "OPS/xhtml/chapter_016.xhtml\n",
      "OPS/xhtml/chapter_017.xhtml\n",
      "OPS/xhtml/chapter_018.xhtml\n",
      "OPS/xhtml/chapter_019.xhtml\n",
      "OPS/xhtml/contents.xhtml\n",
      "OPS/xhtml/copyright.xhtml\n",
      "OPS/xhtml/cover.xhtml\n",
      "OPS/xhtml/dedication.xhtml\n",
      "OPS/xhtml/epilogue_split_000.xhtml\n",
      "OPS/xhtml/epilogue_split_001.xhtml\n",
      "OPS/xhtml/praise.xhtml\n",
      "OPS/xhtml/prologue.xhtml\n",
      "OPS/xhtml/sneak_preview.xhtml\n",
      "OPS/xhtml/title.xhtml\n",
      "contents_u1.xhtml\n",
      "titlepage.xhtml\n",
      "dict_keys([])\n"
     ]
    }
   ],
   "source": [
    "from pathlib import Path\n",
    "base_title = Path(test_source).stem\n",
    "book = epub.read_epub(test_source)\n",
    "chapters = {}\n",
    "for doc in book.get_items_of_type(ebooklib.ITEM_DOCUMENT):\n",
    "    print(doc.get_name())\n",
    "    if 'part' in doc.get_name():\n",
    "        chapters[doc.get_name()] = chapter_to_paragraphs(doc)\n",
    "        continue\n",
    "    # res = nltk.word_tokenize(str(doc.content))\n",
    "    # text += \" \".join([r for r in res if r.isalnum()])\n",
    "print(chapters.keys())"
   ]
  },
  {
   "cell_type": "markdown",
   "id": "dac8a3ba",
   "metadata": {
    "tags": [
     "papermill-error-cell-tag"
    ]
   },
   "source": [
    "<span id=\"papermill-error-cell\" style=\"color:red; font-family:Helvetica Neue, Helvetica, Arial, sans-serif; font-size:2em;\">Execution using papermill encountered an exception here and stopped:</span>"
   ]
  },
  {
   "cell_type": "code",
   "execution_count": 5,
   "id": "5f64d23c-6cc9-412a-bc75-92f9f828a3f1",
   "metadata": {
    "execution": {
     "iopub.execute_input": "2022-08-21T21:22:54.260792Z",
     "iopub.status.busy": "2022-08-21T21:22:54.260487Z",
     "iopub.status.idle": "2022-08-21T21:22:54.843459Z",
     "shell.execute_reply": "2022-08-21T21:22:54.841773Z"
    },
    "papermill": {
     "duration": 0.590784,
     "end_time": "2022-08-21T21:22:54.846142",
     "exception": true,
     "start_time": "2022-08-21T21:22:54.255358",
     "status": "failed"
    },
    "tags": []
   },
   "outputs": [
    {
     "ename": "IndexError",
     "evalue": "list index out of range",
     "output_type": "error",
     "traceback": [
      "\u001b[0;31m---------------------------------------------------------------------------\u001b[0m",
      "\u001b[0;31mIndexError\u001b[0m                                Traceback (most recent call last)",
      "Input \u001b[0;32mIn [5]\u001b[0m, in \u001b[0;36m<cell line: 28>\u001b[0;34m()\u001b[0m\n\u001b[1;32m     24\u001b[0m                 people\u001b[38;5;241m.\u001b[39madd(name)\n\u001b[1;32m     25\u001b[0m     \u001b[38;5;28;01mreturn\u001b[39;00m people\n\u001b[0;32m---> 28\u001b[0m sample_paragraphs \u001b[38;5;241m=\u001b[39m \u001b[38;5;28;43mlist\u001b[39;49m\u001b[43m(\u001b[49m\u001b[43mchapters\u001b[49m\u001b[38;5;241;43m.\u001b[39;49m\u001b[43mvalues\u001b[49m\u001b[43m(\u001b[49m\u001b[43m)\u001b[49m\u001b[43m)\u001b[49m\u001b[43m[\u001b[49m\u001b[38;5;241;43m0\u001b[39;49m\u001b[43m]\u001b[49m\n\u001b[1;32m     33\u001b[0m \u001b[38;5;28;01mfor\u001b[39;00m s \u001b[38;5;129;01min\u001b[39;00m sample_paragraphs[\u001b[38;5;241m-\u001b[39m\u001b[38;5;241m10\u001b[39m:]:\n\u001b[1;32m     34\u001b[0m     \u001b[38;5;28mprint\u001b[39m(\u001b[38;5;124m'\u001b[39m\u001b[38;5;130;01m\\n\u001b[39;00m\u001b[38;5;130;01m\\n\u001b[39;00m\u001b[38;5;130;01m\\n\u001b[39;00m\u001b[38;5;124m'\u001b[39m,s,\u001b[38;5;124m'\u001b[39m\u001b[38;5;130;01m\\n\u001b[39;00m\u001b[38;5;124m'\u001b[39m)\n",
      "\u001b[0;31mIndexError\u001b[0m: list index out of range"
     ]
    }
   ],
   "source": [
    "import nltk\n",
    "\n",
    "from nltk import ne_chunk, pos_tag, word_tokenize\n",
    "from nltk.tree import Tree\n",
    "\n",
    "def get_names(text):\n",
    "    nltk_results = ne_chunk(pos_tag(word_tokenize(text)))\n",
    "    for nltk_result in nltk_results:\n",
    "        if type(nltk_result) == Tree:\n",
    "            name = ''\n",
    "            for nltk_result_leaf in nltk_result.leaves():\n",
    "                name += nltk_result_leaf[0] + ' '\n",
    "            print ('Type: ', nltk_result.label(), 'Name: ', name)\n",
    "            \n",
    "def get_persons(text):\n",
    "    people = set()\n",
    "    nltk_results = ne_chunk(pos_tag(word_tokenize(text)))\n",
    "    for nltk_result in nltk_results:\n",
    "        if type(nltk_result) == Tree:\n",
    "            name = ''\n",
    "            for nltk_result_leaf in nltk_result.leaves():\n",
    "                name += nltk_result_leaf[0] + ' '\n",
    "            if nltk_result.label() == 'PERSON':\n",
    "                people.add(name)\n",
    "    return people\n",
    "            \n",
    "            \n",
    "sample_paragraphs = list(chapters.values())[0]\n",
    "\n",
    "\n",
    "\n",
    "\n",
    "for s in sample_paragraphs[-10:]:\n",
    "    print('\\n\\n\\n',s,'\\n')\n",
    "    #print(sample_text)\n",
    "\n",
    "    get_names(s)\n",
    "    print(get_persons(s))"
   ]
  },
  {
   "cell_type": "code",
   "execution_count": null,
   "id": "3709cc3d-2137-4ce6-88ca-b89f1fbf3b9c",
   "metadata": {
    "papermill": {
     "duration": null,
     "end_time": null,
     "exception": null,
     "start_time": null,
     "status": "pending"
    },
    "tags": []
   },
   "outputs": [],
   "source": [
    "display([len(l) for l in chapters.values()])\n",
    "from collections import Counter\n",
    "from itertools import combinations\n",
    "\n",
    "def process_chapter(chapter):\n",
    "\n",
    "    people_counter = Counter()\n",
    "    combo_counter = Counter()\n",
    "\n",
    "    def get_connections(paragraph):\n",
    "        people = get_persons(paragraph)\n",
    "        if not people: return\n",
    "        for p in people:\n",
    "            people_counter.update([p])\n",
    "\n",
    "        for combo in combinations(people,2):\n",
    "            combo_counter.update([combo])\n",
    "\n",
    "\n",
    "    for p in chapter:\n",
    "        # print(p)\n",
    "        get_connections(p)\n",
    "    return people_counter.copy(),combo_counter.copy()\n",
    "    \n",
    "people_counter_chap1, combo_counter_chap1 = process_chapter(sample_paragraphs)\n",
    "print('People counter:', people_counter_chap1)\n",
    "print('Combo counter:' ,combo_counter_chap1)"
   ]
  },
  {
   "cell_type": "code",
   "execution_count": null,
   "id": "e235f0f8-3568-4ef1-9e0b-412f9336cd24",
   "metadata": {
    "papermill": {
     "duration": null,
     "end_time": null,
     "exception": null,
     "start_time": null,
     "status": "pending"
    },
    "tags": []
   },
   "outputs": [],
   "source": [
    "from tqdm import tqdm\n",
    "people_counters = {}\n",
    "combo_counters = {}\n",
    "pb = tqdm(chapters.items())\n",
    "for chapter_name, paragraphs in pb:\n",
    "    people_counters[chapter_name], combo_counters[chapter_name] = process_chapter(paragraphs)\n",
    "    "
   ]
  },
  {
   "cell_type": "code",
   "execution_count": null,
   "id": "fbfbf887-469a-4286-96d3-13913774fd45",
   "metadata": {
    "papermill": {
     "duration": null,
     "end_time": null,
     "exception": null,
     "start_time": null,
     "status": "pending"
    },
    "tags": []
   },
   "outputs": [],
   "source": [
    "\n",
    "outdir = Path('data') /'processed' / base_title\n",
    "if  not outdir.exists(): outdir.mkdir(parents=True)\n",
    "print(outdir.exists())"
   ]
  },
  {
   "cell_type": "code",
   "execution_count": null,
   "id": "6acadb4e-75d4-48c8-b524-6e441bc8efe8",
   "metadata": {
    "papermill": {
     "duration": null,
     "end_time": null,
     "exception": null,
     "start_time": null,
     "status": "pending"
    },
    "tags": []
   },
   "outputs": [],
   "source": [
    "import pandas as pd\n",
    "import matplotlib.pyplot as plt\n",
    "\n",
    "\n",
    "\n",
    "df = pd.DataFrame(people_counters.values(), (f'Chapter {i}' for i, _ in enumerate(people_counters.keys()))).fillna(0)\n",
    "select_cols = df.sum(axis=0)>10\n",
    "filtered_people = df.loc[:,select_cols].copy()\n",
    "\n",
    "df.to_csv(outdir/f\"{base_title}_people.csv\")\n",
    "#filtered_people.plot()"
   ]
  },
  {
   "cell_type": "code",
   "execution_count": null,
   "id": "31772118-dd46-4ff9-83aa-c76480d4cc87",
   "metadata": {
    "papermill": {
     "duration": null,
     "end_time": null,
     "exception": null,
     "start_time": null,
     "status": "pending"
    },
    "tags": []
   },
   "outputs": [],
   "source": [
    "import pandas as pd\n",
    "import matplotlib.pyplot as plt\n",
    "\n",
    "df = pd.DataFrame(combo_counters.values(), (f'Chapter {i}' for i, _ in enumerate(combo_counters.keys()))).fillna(0)\n",
    "df.to_csv(outdir/f\"{base_title}_combos.csv\")\n",
    "display(df.head())\n",
    "select_cols = df.sum(axis=0)>3\n",
    "filtered_combos = df.loc[:,select_cols].copy()\n",
    "#filtered_combos.plot()"
   ]
  },
  {
   "cell_type": "code",
   "execution_count": null,
   "id": "6932016d-e463-4dd7-85e7-0fcd318d53f8",
   "metadata": {
    "papermill": {
     "duration": null,
     "end_time": null,
     "exception": null,
     "start_time": null,
     "status": "pending"
    },
    "tags": []
   },
   "outputs": [],
   "source": [
    "import networkx as nx\n",
    "from itertools import chain\n",
    "\n",
    "g = nx.Graph()\n",
    "\n",
    "people_from_combos = set(chain(*[[*c] for c in filtered_combos.columns]))\n",
    "print(people_from_combos)\n",
    "g.add_nodes_from([(p,{'label':p}) for p in people_from_combos])\n",
    "\n",
    "summed_weights = filtered_combos.sum(axis=0)\n",
    "\n",
    "print(summed_weights)\n",
    "\n",
    "edges_with_weights = [(*edge,weight) for edge, weight  in zip(summed_weights.index, summed_weights.values)]\n",
    "print(edges_with_weights)\n",
    "\n",
    "\n",
    "g.add_weighted_edges_from(edges_with_weights)\n",
    "\n",
    "\n"
   ]
  },
  {
   "cell_type": "code",
   "execution_count": null,
   "id": "b19997f2-2eff-4c6b-86f9-6f39e6f3269c",
   "metadata": {
    "papermill": {
     "duration": null,
     "end_time": null,
     "exception": null,
     "start_time": null,
     "status": "pending"
    },
    "tags": []
   },
   "outputs": [],
   "source": [
    "import matplotlib.pyplot as plt\n",
    "\n",
    "fig = plt.figure(figsize=(20,8))\n",
    "ax = fig.add_subplot()\n",
    "\n",
    "nx.draw(g,ax=ax, pos=nx.spring_layout(g))\n",
    "nx.draw_networkx_labels(g,pos=nx.spring_layout(g),ax=ax)\n",
    "plt.show()\n",
    "\n",
    "\n",
    "\n",
    "\n",
    "\n",
    "\n",
    "\n",
    "\n",
    "nx.write_gexf(g, outdir/f\"{base_title}.gexf\")\n"
   ]
  }
 ],
 "metadata": {
  "kernelspec": {
   "display_name": "nlp",
   "language": "python",
   "name": "nlp"
  },
  "language_info": {
   "codemirror_mode": {
    "name": "ipython",
    "version": 3
   },
   "file_extension": ".py",
   "mimetype": "text/x-python",
   "name": "python",
   "nbconvert_exporter": "python",
   "pygments_lexer": "ipython3",
   "version": "3.10.0"
  },
  "papermill": {
   "default_parameters": {},
   "duration": 5.976374,
   "end_time": "2022-08-21T21:22:55.374729",
   "environment_variables": {},
   "exception": true,
   "input_path": "ExtractPeopleCombosAndGraph.ipynb",
   "output_path": "pm.ipynb",
   "parameters": {
    "test_source": "data/41_the_shepherds_crown.epub"
   },
   "start_time": "2022-08-21T21:22:49.398355",
   "version": "2.4.0"
  }
 },
 "nbformat": 4,
 "nbformat_minor": 5
}